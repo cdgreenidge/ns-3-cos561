{
 "cells": [
  {
   "cell_type": "code",
   "execution_count": null,
   "metadata": {},
   "outputs": [],
   "source": [
    "import math\n",
    "import io\n",
    "\n",
    "import matplotlib\n",
    "import matplotlib.pyplot as plt\n",
    "import pandas as pd\n",
    "\n",
    "matplotlib.rcParams['figure.dpi'] = 100"
   ]
  },
  {
   "cell_type": "markdown",
   "metadata": {},
   "source": [
    "# Diagnostics\n",
    "\n",
    "Use `./run.sh` in the root directory to dump diagnostic variables to `simple-toplogy-stderr.txt`. Then use this notebook for plots"
   ]
  },
  {
   "cell_type": "markdown",
   "metadata": {},
   "source": [
    "\n",
    "## Packet Ack Diagnostics\n",
    "\n",
    "(stuff we collect on every ack). \n",
    "\n",
    "plots are shaded green when the algorithm is learning"
   ]
  },
  {
   "cell_type": "code",
   "execution_count": null,
   "metadata": {},
   "outputs": [],
   "source": [
    "# Get data for every ACK\n",
    "ack_data = \"\".join(i for i in open(\"../simple-topology-stderr.txt\") if \"ack\" in i)\n",
    "df_ack = pd.read_csv(io.StringIO(ack_data))\n",
    "df_ack = df_ack.drop(\"ack\", axis=1)\n",
    "df_ack.columns = [\"time\", \"variable\", \"value\"]\n",
    "df_ack = df_ack.pivot(index=\"time\", columns=\"variable\", values=\"value\")\n",
    "df_ack = df_ack.reindex(sorted(df_ack.columns), axis=1)\n",
    "\n",
    "# Get data for every execution of Learn()\n",
    "learn_data = \"\".join(i for i in open(\"../simple-topology-stderr.txt\") if \"learn\" in i)\n",
    "df_learn = pd.read_csv(io.StringIO(learn_data))\n",
    "df_learn = df_learn.drop(\"learn\", axis=1)\n",
    "df_learn.columns = [\"time\", \"variable\", \"value\"]\n",
    "df_learn = df_learn.pivot(index=\"time\", columns=\"variable\", values=\"value\")\n",
    "df_learn = df_learn.reindex(sorted(df_learn.columns), axis=1)"
   ]
  },
  {
   "cell_type": "code",
   "execution_count": null,
   "metadata": {},
   "outputs": [],
   "source": [
    "df_ack.describe()"
   ]
  },
  {
   "cell_type": "code",
   "execution_count": null,
   "metadata": {},
   "outputs": [],
   "source": [
    "df_learn.describe()"
   ]
  },
  {
   "cell_type": "code",
   "execution_count": null,
   "metadata": {},
   "outputs": [],
   "source": [
    "def plot_learn_events(ax):\n",
    "    ax.vlines(df_learn.index, *ax.get_ylim(), alpha=0.1, color=\"green\", linewidth=0.5)"
   ]
  },
  {
   "cell_type": "code",
   "execution_count": null,
   "metadata": {},
   "outputs": [],
   "source": [
    "state_cols = [i for i in df_ack.columns if \"state\" in i]\n",
    "fig, ax = plt.subplots()\n",
    "for i, col in enumerate(state_cols):\n",
    "    ax.plot(df_ack.index, df_ack[col], label=i)\n",
    "plot_learn_events(ax)\n",
    "ax.legend()\n",
    "ax.set_title(\"State Variables\")"
   ]
  },
  {
   "cell_type": "code",
   "execution_count": null,
   "metadata": {},
   "outputs": [],
   "source": [
    "cols_to_plot = [i for i in df_ack.columns if \"state\" not in i]\n",
    "n_rows = math.ceil(len(cols_to_plot) / 2)\n",
    "fig, axs = plt.subplots(n_rows, 2, figsize=(6, 2 * n_rows))\n",
    "\n",
    "for i, col in enumerate(cols_to_plot):\n",
    "    ax = axs.flatten()[i]\n",
    "    df_ack.plot(y=col, use_index=True, ax=ax, legend=None)\n",
    "    plot_learn_events(ax)\n",
    "    ax.set_title(col)\n",
    "fig.tight_layout()"
   ]
  },
  {
   "cell_type": "markdown",
   "metadata": {},
   "source": [
    "## Learn diagnostics\n",
    "\n",
    "(Stuff we collect every time the FuzzyKanerva function is executed)"
   ]
  },
  {
   "cell_type": "code",
   "execution_count": null,
   "metadata": {},
   "outputs": [],
   "source": [
    "cols_to_plot = [i for i in df_learn.columns if \"state\" not in i]\n",
    "n_rows = math.ceil(len(cols_to_plot) / 2)\n",
    "fig, axs = plt.subplots(n_rows, 2, figsize=(6, 2 * n_rows))\n",
    "\n",
    "for i, col in enumerate(cols_to_plot):\n",
    "    ax = axs.flatten()[i]\n",
    "    df_learn.plot(y=col, use_index=True, ax=ax, legend=None)\n",
    "    plot_learn_events(ax)\n",
    "    ax.set_title(col)\n",
    "fig.tight_layout()"
   ]
  }
 ],
 "metadata": {
  "kernelspec": {
   "display_name": "Python [conda env:ns3]",
   "language": "python",
   "name": "conda-env-ns3-py"
  },
  "language_info": {
   "codemirror_mode": {
    "name": "ipython",
    "version": 3
   },
   "file_extension": ".py",
   "mimetype": "text/x-python",
   "name": "python",
   "nbconvert_exporter": "python",
   "pygments_lexer": "ipython3",
   "version": "3.8.5"
  }
 },
 "nbformat": 4,
 "nbformat_minor": 4
}
