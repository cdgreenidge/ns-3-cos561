{
 "cells": [
  {
   "cell_type": "code",
   "execution_count": 20,
   "metadata": {},
   "outputs": [],
   "source": [
    "import numpy as np"
   ]
  },
  {
   "cell_type": "code",
   "execution_count": 22,
   "metadata": {},
   "outputs": [
    {
     "name": "stdout",
     "output_type": "stream",
     "text": [
      "3.847737644214032051841216628E-11\n",
      "2.765653250839936847269441079E-9\n"
     ]
    }
   ],
   "source": [
    "# Find min and max times between acks on the sender side\n",
    "ackFile = open('./simple-topology-ackreceivetimes.data', 'r')\n",
    "lines = ackFile.readlines()\n",
    "ackFile.close()\n",
    "splitLines = np.array([list(map(int, line.split())) for line in lines])\n",
    "ackNumbers = splitLines[:, 0]\n",
    "ackTimes   = splitLines[:, 1]\n",
    "\n",
    "differenceAckNumbers = [int(j - i) for i, j in zip(ackNumbers[:-1], ackNumbers[1:])]\n",
    "differenceAckTimes   = [int(j - i) for i, j in zip(ackTimes[:-1], ackTimes[1:])]\n",
    "\n",
    "\n",
    "# Estimate the average time between acks for each interval of time we have\n",
    "# Use Decimal for precision\n",
    "avgTimesBetweenAcks  = [Decimal(i) / Decimal(j) for i, j in zip(differenceAckNumbers, differenceAckTimes)]\n",
    "\n",
    "print(min(avgTimesBetweenAcks))\n",
    "print(max(avgTimesBetweenAcks))"
   ]
  },
  {
   "cell_type": "code",
   "execution_count": 25,
   "metadata": {},
   "outputs": [
    {
     "name": "stdout",
     "output_type": "stream",
     "text": [
      "0\n",
      "4294967295\n"
     ]
    }
   ],
   "source": [
    "# Find min and max ssthresh values\n",
    "ssthreshFile = open('./simple-topology-ssth.data', 'r')\n",
    "lines = ssthreshFile.readlines()\n",
    "ssthreshFile.close()\n",
    "splitLines = np.array([line.split() for line in lines])\n",
    "sshthreshValues = list(map(int, splitLines[:, 1]))\n",
    "\n",
    "print(min(sshthreshValues))\n",
    "print(max(sshthreshValues))"
   ]
  },
  {
   "cell_type": "code",
   "execution_count": 32,
   "metadata": {},
   "outputs": [
    {
     "name": "stdout",
     "output_type": "stream",
     "text": [
      "0.14173962713973684\n",
      "7.05519\n"
     ]
    }
   ],
   "source": [
    "# Find min and max ssthresh values\n",
    "rttFile = open('./simple-topology-rtt.data', 'r')\n",
    "lines = rttFile.readlines()\n",
    "rttFile.close()\n",
    "splitLines = np.array([line.split() for line in lines])\n",
    "rttValues = list(map(float, splitLines[:, 1]))\n",
    "\n",
    "# Remove 0 from the RTT list \n",
    "rttValues = list(filter((0.0).__ne__, rttValues))\n",
    "\n",
    "minRtt = min(rttValues)\n",
    "maxRtt = max(rttValues)\n",
    "\n",
    "# Find min and max ratios of RTT\n",
    "print(minRtt / maxRtt)\n",
    "print(maxRtt / minRtt)"
   ]
  },
  {
   "cell_type": "code",
   "execution_count": null,
   "metadata": {},
   "outputs": [],
   "source": []
  }
 ],
 "metadata": {
  "kernelspec": {
   "display_name": "Python 3",
   "language": "python",
   "name": "python3"
  },
  "language_info": {
   "codemirror_mode": {
    "name": "ipython",
    "version": 3
   },
   "file_extension": ".py",
   "mimetype": "text/x-python",
   "name": "python",
   "nbconvert_exporter": "python",
   "pygments_lexer": "ipython3",
   "version": "3.6.10"
  }
 },
 "nbformat": 4,
 "nbformat_minor": 4
}
